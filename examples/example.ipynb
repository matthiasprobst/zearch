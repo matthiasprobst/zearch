{
 "cells": [
  {
   "cell_type": "markdown",
   "id": "effaf38f-25be-47c2-9d06-10b0a22f37e9",
   "metadata": {},
   "source": [
    "# Example search for Zenodo records\n",
    "\n",
    "With `zsearch` (zenodo-search) you can query the zenodo database for repositories"
   ]
  },
  {
   "cell_type": "code",
   "execution_count": null,
   "id": "c1572a26-4806-4c38-9d54-14577acd95a7",
   "metadata": {},
   "outputs": [],
   "source": [
    "import zsearch"
   ]
  },
  {
   "cell_type": "markdown",
   "id": "411a8279-2090-4f0e-93e6-5815842ce32c",
   "metadata": {},
   "source": [
    "## Basic search\n",
    "\n",
    "Basic search means to pass the search string to `zsearch.search` as described online ([Zenodo Search guide](https://help.zenodo.org/guides/search/)).\n",
    "\n",
    "Note, that the return type is a read-only-dictionary which comes with the package:"
   ]
  },
  {
   "cell_type": "code",
   "execution_count": null,
   "id": "2f9d4cd5-7234-459c-9a2b-45f7718b490d",
   "metadata": {},
   "outputs": [],
   "source": [
    "records = zsearch.search('keywords:(\"PIV\" AND \"standard name\" AND \"standard name table\")')\n",
    "records"
   ]
  },
  {
   "cell_type": "code",
   "execution_count": null,
   "id": "f6f2aba3-a9b2-4243-b052-a93a9d2482eb",
   "metadata": {},
   "outputs": [],
   "source": [
    "type(records), type(records[0])"
   ]
  },
  {
   "cell_type": "code",
   "execution_count": null,
   "id": "2fb4538f-a6d6-4ae5-a015-cb904dd74749",
   "metadata": {},
   "outputs": [],
   "source": [
    "for record in records:\n",
    "    print(record)"
   ]
  },
  {
   "cell_type": "code",
   "execution_count": null,
   "id": "0174d5ed-58a0-4c0d-bd24-7325a2b0d038",
   "metadata": {},
   "outputs": [],
   "source": [
    "records[0]"
   ]
  },
  {
   "cell_type": "markdown",
   "id": "c1de666b-f3e5-4d5e-8a56-a153ba2bd94e",
   "metadata": {},
   "source": [
    "**Search for multiple parameters**\n",
    "\n",
    "You may also query multiple parameters:"
   ]
  },
  {
   "cell_type": "code",
   "execution_count": null,
   "id": "b904cc5e-f2dc-455f-87e5-60b198fec626",
   "metadata": {},
   "outputs": [],
   "source": [
    "records = zsearch.search('resource_type.type:other AND creators.name:(\"Probst, Matthias\")')  # keyword_to_search, orcid='0000-0001-8729-0482'"
   ]
  },
  {
   "cell_type": "markdown",
   "id": "35d041cf-67de-490a-b24f-dbeda8381584",
   "metadata": {},
   "source": [
    "One of the important entry of a record is `metadata` and `files` (see also the utility section below)"
   ]
  },
  {
   "cell_type": "code",
   "execution_count": null,
   "id": "6c690056-0cc3-4c79-bfb8-f528c8193057",
   "metadata": {},
   "outputs": [],
   "source": [
    "records[0].metadata"
   ]
  },
  {
   "cell_type": "markdown",
   "id": "9968dae3-91ed-43d7-a249-892dbce3d13e",
   "metadata": {},
   "source": [
    "## Utility\n",
    "\n",
    "### Explain the response:"
   ]
  },
  {
   "cell_type": "code",
   "execution_count": null,
   "id": "6a94827a-a6c6-4dad-8a36-e08631dfc382",
   "metadata": {},
   "outputs": [],
   "source": [
    "zsearch.explain_response(records.response)"
   ]
  },
  {
   "cell_type": "markdown",
   "id": "87e3a590-8f82-44bb-a4e4-de915644d41a",
   "metadata": {},
   "source": [
    "### Download a file:"
   ]
  },
  {
   "cell_type": "code",
   "execution_count": null,
   "id": "85c24018-0498-4ab7-8b37-ca458ebfecc8",
   "metadata": {},
   "outputs": [],
   "source": [
    "zsearch.download_file(records[0].files[0])"
   ]
  },
  {
   "cell_type": "code",
   "execution_count": null,
   "id": "00ede732-da0e-4b83-be5d-33d07f85c0ec",
   "metadata": {},
   "outputs": [],
   "source": [
    "zsearch.download_files(records[0].files)"
   ]
  },
  {
   "cell_type": "code",
   "execution_count": null,
   "id": "c9c2174c-7a6e-41c5-9563-228cbaeae6da",
   "metadata": {},
   "outputs": [],
   "source": []
  }
 ],
 "metadata": {
  "kernelspec": {
   "display_name": "Python 3 (ipykernel)",
   "language": "python",
   "name": "python3"
  },
  "language_info": {
   "codemirror_mode": {
    "name": "ipython",
    "version": 3
   },
   "file_extension": ".py",
   "mimetype": "text/x-python",
   "name": "python",
   "nbconvert_exporter": "python",
   "pygments_lexer": "ipython3",
   "version": "3.8.17"
  }
 },
 "nbformat": 4,
 "nbformat_minor": 5
}
