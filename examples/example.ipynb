{
 "cells": [
  {
   "cell_type": "markdown",
   "id": "effaf38f-25be-47c2-9d06-10b0a22f37e9",
   "metadata": {},
   "source": [
    "# Example search for Zenodo records\n",
    "\n",
    "With `zsearch` (zenodo-search) you can query the zenodo database for repositories"
   ]
  },
  {
   "cell_type": "code",
   "execution_count": 1,
   "id": "c1572a26-4806-4c38-9d54-14577acd95a7",
   "metadata": {},
   "outputs": [
    {
     "data": {
      "text/plain": [
       "'0.0.2'"
      ]
     },
     "execution_count": 1,
     "metadata": {},
     "output_type": "execute_result"
    }
   ],
   "source": [
    "import zenodo_search as zsearch\n",
    "\n",
    "zsearch.__version__"
   ]
  },
  {
   "cell_type": "markdown",
   "id": "411a8279-2090-4f0e-93e6-5815842ce32c",
   "metadata": {},
   "source": [
    "## Basic search\n",
    "\n",
    "Basic search means to pass the search string to `zsearch.search` as described online ([Zenodo Search guide](https://help.zenodo.org/guides/search/)).\n",
    "\n",
    "Note, that the return type is a read-only-dictionary which comes with the package:"
   ]
  },
  {
   "cell_type": "code",
   "execution_count": 2,
   "id": "2f9d4cd5-7234-459c-9a2b-45f7718b490d",
   "metadata": {},
   "outputs": [
    {
     "data": {
      "text/plain": [
       "<Records (keywords:(\"PIV\" AND \"standard name\" AND \"standard name table\") with 1 records>"
      ]
     },
     "execution_count": 2,
     "metadata": {},
     "output_type": "execute_result"
    }
   ],
   "source": [
    "records = zsearch.search('keywords:(\"PIV\" AND \"standard name\" AND \"standard name table\")')\n",
    "records"
   ]
  },
  {
   "cell_type": "code",
   "execution_count": 3,
   "id": "f6f2aba3-a9b2-4243-b052-a93a9d2482eb",
   "metadata": {},
   "outputs": [
    {
     "data": {
      "text/plain": [
       "(zenodo_search.zsearch.Records, zenodo_search.zsearch.Record)"
      ]
     },
     "execution_count": 3,
     "metadata": {},
     "output_type": "execute_result"
    }
   ],
   "source": [
    "type(records), type(records[0])"
   ]
  },
  {
   "cell_type": "code",
   "execution_count": 4,
   "id": "2fb4538f-a6d6-4ae5-a015-cb904dd74749",
   "metadata": {},
   "outputs": [
    {
     "name": "stdout",
     "output_type": "stream",
     "text": [
      "<Record https://zenodo.org/record/8158764: Standard Name Table for dataset description of PIV measurements>\n"
     ]
    }
   ],
   "source": [
    "for record in records:\n",
    "    print(record)"
   ]
  },
  {
   "cell_type": "code",
   "execution_count": 5,
   "id": "0174d5ed-58a0-4c0d-bd24-7325a2b0d038",
   "metadata": {},
   "outputs": [
    {
     "data": {
      "text/html": [
       "<a href=\"https://zenodo.org/record/8158764\" target=\"_blank\"><img src=\"https://zenodo.org/badge/doi/10.5281/zenodo.8158764.svg\" alt=\"Zenodo Badge\" /></a> Standard Name Table for dataset description of PIV measurements"
      ],
      "text/plain": [
       "<Record https://zenodo.org/record/8158764: Standard Name Table for dataset description of PIV measurements>"
      ]
     },
     "execution_count": 5,
     "metadata": {},
     "output_type": "execute_result"
    }
   ],
   "source": [
    "records[0]"
   ]
  },
  {
   "cell_type": "markdown",
   "id": "c1de666b-f3e5-4d5e-8a56-a153ba2bd94e",
   "metadata": {},
   "source": [
    "**Search for multiple parameters**\n",
    "\n",
    "You may also query multiple parameters:"
   ]
  },
  {
   "cell_type": "code",
   "execution_count": 6,
   "id": "b904cc5e-f2dc-455f-87e5-60b198fec626",
   "metadata": {},
   "outputs": [],
   "source": [
    "records = zsearch.search('resource_type.type:other AND creators.name:(\"Probst, Matthias\")')"
   ]
  },
  {
   "cell_type": "markdown",
   "id": "35d041cf-67de-490a-b24f-dbeda8381584",
   "metadata": {},
   "source": [
    "One of the important entry of a record is `metadata` and `files` (see also the utility section below)"
   ]
  },
  {
   "cell_type": "code",
   "execution_count": 7,
   "id": "6c690056-0cc3-4c79-bfb8-f528c8193057",
   "metadata": {},
   "outputs": [
    {
     "data": {
      "text/plain": [
       "{'access_right': 'open',\n",
       " 'access_right_category': 'success',\n",
       " 'creators': [{'affiliation': 'Institute of Thermal Turbomachinery',\n",
       "   'name': 'Probst, Matthias',\n",
       "   'orcid': '0000-0001-8729-0482'}],\n",
       " 'description': '<p>A first alpha version of a standard name table intended for usage with PIV measurement results stored in HDF5 files. The meta data concept is adopted from the <a href=\"http://cfconventions.org/Data/cf-standard-names/docs/guidelines.html\">cf-conventions</a>. A &quot;standard_name&quot; and a &quot;units&quot; attribute must be assigned as an attribute of the corresponding HDF5 dataset in order to make it identifieable by others (user or machines). The table lists all possible standard names with their SI-units. Please note that this version is intended for testing purposes, and it is planned to release future versions accompanied by complementary publications.</p>',\n",
       " 'doi': '10.5281/zenodo.8158764',\n",
       " 'keywords': ['PIV',\n",
       "  'standard name',\n",
       "  'standard name table',\n",
       "  'HDF5',\n",
       "  'metadata'],\n",
       " 'language': 'eng',\n",
       " 'license': {'id': 'CC-BY-4.0'},\n",
       " 'publication_date': '2023-07-18',\n",
       " 'related_identifiers': [{'identifier': '10.5281/zenodo.8158763',\n",
       "   'relation': 'isVersionOf',\n",
       "   'scheme': 'doi'}],\n",
       " 'relations': {'version': [{'count': 1,\n",
       "    'index': 0,\n",
       "    'is_last': True,\n",
       "    'last_child': {'pid_type': 'recid', 'pid_value': '8158764'},\n",
       "    'parent': {'pid_type': 'recid', 'pid_value': '8158763'}}]},\n",
       " 'resource_type': {'title': 'Other', 'type': 'other'},\n",
       " 'title': 'Standard Name Table for dataset description of PIV measurements',\n",
       " 'version': 'v1.0a'}"
      ]
     },
     "execution_count": 7,
     "metadata": {},
     "output_type": "execute_result"
    }
   ],
   "source": [
    "records[0].metadata"
   ]
  },
  {
   "cell_type": "markdown",
   "id": "9968dae3-91ed-43d7-a249-892dbce3d13e",
   "metadata": {},
   "source": [
    "## Utility\n",
    "\n",
    "### Explain the response:"
   ]
  },
  {
   "cell_type": "code",
   "execution_count": 8,
   "id": "6a94827a-a6c6-4dad-8a36-e08631dfc382",
   "metadata": {},
   "outputs": [
    {
     "data": {
      "text/plain": [
       "'200: OK: Request succeeded. Response included. Usually sent for GET/PUT/PATCH requests.'"
      ]
     },
     "execution_count": 8,
     "metadata": {},
     "output_type": "execute_result"
    }
   ],
   "source": [
    "zsearch.explain_response(records.response)"
   ]
  },
  {
   "cell_type": "markdown",
   "id": "87e3a590-8f82-44bb-a4e4-de915644d41a",
   "metadata": {},
   "source": [
    "### Download a file:"
   ]
  },
  {
   "cell_type": "code",
   "execution_count": 9,
   "id": "85c24018-0498-4ab7-8b37-ca458ebfecc8",
   "metadata": {},
   "outputs": [
    {
     "data": {
      "text/plain": [
       "WindowsPath('planar_piv-v1.0a.yaml')"
      ]
     },
     "execution_count": 9,
     "metadata": {},
     "output_type": "execute_result"
    }
   ],
   "source": [
    "zsearch.download_file(records[0].files[0])"
   ]
  },
  {
   "cell_type": "code",
   "execution_count": 10,
   "id": "00ede732-da0e-4b83-be5d-33d07f85c0ec",
   "metadata": {},
   "outputs": [
    {
     "data": {
      "text/plain": [
       "[WindowsPath('planar_piv-v1.0a.yaml')]"
      ]
     },
     "execution_count": 10,
     "metadata": {},
     "output_type": "execute_result"
    }
   ],
   "source": [
    "zsearch.download_files(records[0].files)"
   ]
  },
  {
   "cell_type": "code",
   "execution_count": null,
   "id": "c9c2174c-7a6e-41c5-9563-228cbaeae6da",
   "metadata": {},
   "outputs": [],
   "source": []
  },
  {
   "cell_type": "code",
   "execution_count": null,
   "id": "4beccc13-369d-4cbe-a557-c2bac1d2a9af",
   "metadata": {},
   "outputs": [],
   "source": []
  }
 ],
 "metadata": {
  "kernelspec": {
   "display_name": "Python 3 (ipykernel)",
   "language": "python",
   "name": "python3"
  },
  "language_info": {
   "codemirror_mode": {
    "name": "ipython",
    "version": 3
   },
   "file_extension": ".py",
   "mimetype": "text/x-python",
   "name": "python",
   "nbconvert_exporter": "python",
   "pygments_lexer": "ipython3",
   "version": "3.8.17"
  }
 },
 "nbformat": 4,
 "nbformat_minor": 5
}
