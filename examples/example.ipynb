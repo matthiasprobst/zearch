{
 "cells": [
  {
   "cell_type": "markdown",
   "id": "effaf38f-25be-47c2-9d06-10b0a22f37e9",
   "metadata": {},
   "source": [
    "# Example search for Zenodo records\n",
    "\n",
    "With `zenodo_search` you can query the [Zenodo](https://zenodo.org/) database for repositories."
   ]
  },
  {
   "cell_type": "code",
   "execution_count": 1,
   "id": "c1572a26-4806-4c38-9d54-14577acd95a7",
   "metadata": {},
   "outputs": [
    {
     "data": {
      "text/plain": [
       "'0.1.0'"
      ]
     },
     "execution_count": 1,
     "metadata": {},
     "output_type": "execute_result"
    }
   ],
   "source": [
    "import zenodo_search as zsearch\n",
    "\n",
    "zsearch.__version__"
   ]
  },
  {
   "cell_type": "markdown",
   "id": "411a8279-2090-4f0e-93e6-5815842ce32c",
   "metadata": {},
   "source": [
    "## Basic search\n",
    "\n",
    "Basic search means to pass the search string to `zsearch.search` as described online ([Zenodo Search guide](https://help.zenodo.org/guides/search/)).\n",
    "\n",
    "Note, that the return type is a read-only-dictionary which comes with the package:"
   ]
  },
  {
   "cell_type": "code",
   "execution_count": 2,
   "id": "2f9d4cd5-7234-459c-9a2b-45f7718b490d",
   "metadata": {},
   "outputs": [
    {
     "data": {
      "text/plain": [
       "<ZenodoRecords (keywords:(\"PIV\" AND \"standard name\" AND \"standard name table\") with 1 ZenodoRecords>"
      ]
     },
     "execution_count": 2,
     "metadata": {},
     "output_type": "execute_result"
    }
   ],
   "source": [
    "records = zsearch.search('keywords:(\"PIV\" AND \"standard name\" AND \"standard name table\")')\n",
    "records"
   ]
  },
  {
   "cell_type": "code",
   "execution_count": 3,
   "id": "f6f2aba3-a9b2-4243-b052-a93a9d2482eb",
   "metadata": {},
   "outputs": [
    {
     "data": {
      "text/plain": [
       "(zenodo_search.zsearch.ZenodoRecords, zenodo_search.zsearch.ZenodoRecord)"
      ]
     },
     "execution_count": 3,
     "metadata": {},
     "output_type": "execute_result"
    }
   ],
   "source": [
    "type(records), type(records[0])"
   ]
  },
  {
   "cell_type": "code",
   "execution_count": 4,
   "id": "2fb4538f-a6d6-4ae5-a015-cb904dd74749",
   "metadata": {},
   "outputs": [
    {
     "name": "stdout",
     "output_type": "stream",
     "text": [
      "<ZenodoRecord https://zenodo.org/record/8220739: Standard Name Table for dataset description of PIV measurements>\n"
     ]
    }
   ],
   "source": [
    "for record in records:\n",
    "    print(record)"
   ]
  },
  {
   "cell_type": "code",
   "execution_count": 5,
   "id": "0174d5ed-58a0-4c0d-bd24-7325a2b0d038",
   "metadata": {},
   "outputs": [
    {
     "data": {
      "text/html": [
       "<a href=\"https://zenodo.org/record/8220739\" target=\"_blank\"><img src=\"https://zenodo.org/badge/doi/10.5281/zenodo.8220739.svg\" alt=\"Zenodo Badge\" /></a> Standard Name Table for dataset description of PIV measurements"
      ],
      "text/plain": [
       "<ZenodoRecord https://zenodo.org/record/8220739: Standard Name Table for dataset description of PIV measurements>"
      ]
     },
     "execution_count": 5,
     "metadata": {},
     "output_type": "execute_result"
    }
   ],
   "source": [
    "records[0]"
   ]
  },
  {
   "cell_type": "markdown",
   "id": "46e8f24b",
   "metadata": {
    "collapsed": false,
    "jupyter": {
     "outputs_hidden": false
    },
    "pycharm": {
     "name": "#%% md\n"
    }
   },
   "source": [
    "**Search for DOI**\n",
    "\n",
    "If the search succeeds, it will return only one record:"
   ]
  },
  {
   "cell_type": "code",
   "execution_count": 6,
   "id": "76bb67e8",
   "metadata": {
    "collapsed": false,
    "jupyter": {
     "outputs_hidden": false
    },
    "pycharm": {
     "name": "#%%\n"
    }
   },
   "outputs": [
    {
     "data": {
      "text/plain": [
       "<ZenodoRecords (10.5281*zenodo.8220739 with 1 ZenodoRecords>"
      ]
     },
     "execution_count": 6,
     "metadata": {},
     "output_type": "execute_result"
    }
   ],
   "source": [
    "zsearch.search('10.5281/zenodo.8220739')"
   ]
  },
  {
   "cell_type": "markdown",
   "id": "c1de666b-f3e5-4d5e-8a56-a153ba2bd94e",
   "metadata": {},
   "source": [
    "**Search for multiple parameters**\n",
    "\n",
    "You may also query multiple parameters:"
   ]
  },
  {
   "cell_type": "code",
   "execution_count": 7,
   "id": "b904cc5e-f2dc-455f-87e5-60b198fec626",
   "metadata": {},
   "outputs": [],
   "source": [
    "records = zsearch.search('resource_type.type:other AND creators.name:(\"Probst, Matthias\")')"
   ]
  },
  {
   "cell_type": "markdown",
   "id": "35d041cf-67de-490a-b24f-dbeda8381584",
   "metadata": {},
   "source": [
    "One of the important entry of a record is `metadata` and `files` (see also the utility section below)"
   ]
  },
  {
   "cell_type": "code",
   "execution_count": 8,
   "id": "6c690056-0cc3-4c79-bfb8-f528c8193057",
   "metadata": {},
   "outputs": [
    {
     "data": {
      "text/plain": [
       "{'access_right': 'open',\n",
       " 'access_right_category': 'success',\n",
       " 'creators': [{'affiliation': 'Karlsruhe Institute of Technology',\n",
       "   'name': 'Probst, Matthias',\n",
       "   'orcid': '0000-0001-8729-0482'}],\n",
       " 'description': '<p>A YAML file containing definitions of standard attributes used as part of the documentation of the <a href=\"http://h5rdmtoolbox.readthedocs.io/\">h5RDMtoolbox</a>. It serves as a convention on how attributes are used in HDF5 files.</p>',\n",
       " 'doi': '10.5281/zenodo.8301535',\n",
       " 'keywords': ['HDF5', 'Convention', 'h5rdmtoolbox', 'data management'],\n",
       " 'language': 'eng',\n",
       " 'license': {'id': 'CC-BY-4.0'},\n",
       " 'publication_date': '2023-08-25',\n",
       " 'related_identifiers': [{'identifier': '10.5281/zenodo.8276816',\n",
       "   'relation': 'isVersionOf',\n",
       "   'scheme': 'doi'}],\n",
       " 'relations': {'version': [{'count': 6,\n",
       "    'index': 5,\n",
       "    'is_last': True,\n",
       "    'last_child': {'pid_type': 'recid', 'pid_value': '8301535'},\n",
       "    'parent': {'pid_type': 'recid', 'pid_value': '8276816'}}]},\n",
       " 'resource_type': {'title': 'Other', 'type': 'other'},\n",
       " 'title': 'Tutorial Standard Attribute Definition',\n",
       " 'version': 'v1.6'}"
      ]
     },
     "execution_count": 8,
     "metadata": {},
     "output_type": "execute_result"
    }
   ],
   "source": [
    "records[0].metadata"
   ]
  },
  {
   "cell_type": "markdown",
   "id": "9968dae3-91ed-43d7-a249-892dbce3d13e",
   "metadata": {},
   "source": [
    "## Utility\n",
    "\n",
    "### Explain the response:"
   ]
  },
  {
   "cell_type": "code",
   "execution_count": 9,
   "id": "6a94827a-a6c6-4dad-8a36-e08631dfc382",
   "metadata": {},
   "outputs": [
    {
     "data": {
      "text/plain": [
       "'200: OK: Request succeeded. Response included. Usually sent for GET/PUT/PATCH requests.'"
      ]
     },
     "execution_count": 9,
     "metadata": {},
     "output_type": "execute_result"
    }
   ],
   "source": [
    "zsearch.explain_response(records.response)"
   ]
  },
  {
   "cell_type": "markdown",
   "id": "87e3a590-8f82-44bb-a4e4-de915644d41a",
   "metadata": {},
   "source": [
    "### Download a file:"
   ]
  },
  {
   "cell_type": "code",
   "execution_count": 10,
   "id": "c051ce3c-e976-493a-8f91-aa92f5538fa7",
   "metadata": {},
   "outputs": [
    {
     "data": {
      "text/plain": [
       "{'bucket': 'e2ca483c-e2af-4e25-ac15-dec46dc1a4ca',\n",
       " 'checksum': 'md5:65ab735fdd56ea16d01ca34404a5130a',\n",
       " 'key': 'tutorial_convention.yaml',\n",
       " 'links': {'self': 'https://zenodo.org/api/files/e2ca483c-e2af-4e25-ac15-dec46dc1a4ca/tutorial_convention.yaml'},\n",
       " 'size': 2541,\n",
       " 'type': 'yaml'}"
      ]
     },
     "execution_count": 10,
     "metadata": {},
     "output_type": "execute_result"
    }
   ],
   "source": [
    "bucket = records[0].files[0]\n",
    "bucket"
   ]
  },
  {
   "cell_type": "code",
   "execution_count": 11,
   "id": "85c24018-0498-4ab7-8b37-ca458ebfecc8",
   "metadata": {},
   "outputs": [
    {
     "data": {
      "text/plain": [
       "WindowsPath('tutorial_convention.yaml')"
      ]
     },
     "execution_count": 11,
     "metadata": {},
     "output_type": "execute_result"
    }
   ],
   "source": [
    "zsearch.download_file(records[0].files[0])"
   ]
  },
  {
   "cell_type": "code",
   "execution_count": 12,
   "id": "00ede732-da0e-4b83-be5d-33d07f85c0ec",
   "metadata": {},
   "outputs": [
    {
     "data": {
      "text/plain": [
       "[WindowsPath('tutorial_convention.yaml')]"
      ]
     },
     "execution_count": 12,
     "metadata": {},
     "output_type": "execute_result"
    }
   ],
   "source": [
    "zsearch.download_files(records[0].files)"
   ]
  }
 ],
 "metadata": {
  "kernelspec": {
   "display_name": "Python 3 (ipykernel)",
   "language": "python",
   "name": "python3"
  },
  "language_info": {
   "codemirror_mode": {
    "name": "ipython",
    "version": 3
   },
   "file_extension": ".py",
   "mimetype": "text/x-python",
   "name": "python",
   "nbconvert_exporter": "python",
   "pygments_lexer": "ipython3",
   "version": "3.11.4"
  }
 },
 "nbformat": 4,
 "nbformat_minor": 5
}
